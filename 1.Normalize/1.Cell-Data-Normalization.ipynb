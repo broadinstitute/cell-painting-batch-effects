{
 "cells": [
  {
   "cell_type": "code",
   "execution_count": 20,
   "metadata": {},
   "outputs": [],
   "source": [
    "import pycytominer"
   ]
  },
  {
   "cell_type": "code",
   "execution_count": 21,
   "metadata": {},
   "outputs": [],
   "source": [
    "import numpy as np\n",
    "import math \n",
    "import pandas as pd\n",
    "import os\n",
    "from os import path\n",
    "import sqlite3"
   ]
  },
  {
   "cell_type": "code",
   "execution_count": 22,
   "metadata": {},
   "outputs": [
    {
     "data": {
      "text/plain": [
       "'conn = sqlite3.connect(\"/home/ubuntu/bucket/projects/2018_05_30_ResistanceMechanisms_Kapoor/workspace/backend/2019_03_20_Batch2/207106_exposure320/207106_exposure320_copy.sqlite\")\\n\\nc1 = conn.cursor()\\n\\ndef load_sc_profiles(connection, compartment = \"Cells\"):\\n    \\n    query = f\"select * from {compartment} where ImageNumber == 1\" ##change this.\\n    print(\\'hi\\')\\n    return pd.read_sql_query(query, connection)\\n    \\n    \\n    \\'\\'\\'\\n    Load an sqlite file\\'s table into a dataframe.\\n    \\n    @Params:\\n    connection - the SQLite connection to the desired database.\\n    compartment - The specific table to be opened, equal to \"Cells,\" \"Cytoplasm,\" \"Image,\" or \"Nuclei.\"\\n    \\'\\'\\'\\n'"
      ]
     },
     "execution_count": 22,
     "metadata": {},
     "output_type": "execute_result"
    }
   ],
   "source": [
    "## \"\"\"conn = sqlite3.connect(\"/home/ubuntu/bucket/projects/2018_05_30_ResistanceMechanisms_Kapoor/workspace/backend/2019_03_20_Batch2/207106_exposure320/207106_exposure320_copy.sqlite\")\n",
    "## \n",
    "## c1 = conn.cursor()\n",
    "\n",
    "## def load_sc_profiles(connection, compartment = \"Cells\"):\n",
    "##     \n",
    "##     query = f\"select * from {compartment} where ImageNumber == 1\" ##change this.\n",
    "##     print('hi')\n",
    "##     return pd.read_sql_query(query, connection)\n",
    "##     \n",
    "##     \n",
    "##     '''\n",
    "##     Load an sqlite file's table into a dataframe.\n",
    "##     \n",
    "##     @Params:\n",
    "##     connection - the SQLite connection to the desired database.\n",
    "##     compartment - The specific table to be opened, equal to \"Cells,\" \"Cytoplasm,\" \"Image,\" or \"Nuclei.\"\n",
    "##     '''\n",
    "## \"\"\""
   ]
  },
  {
   "cell_type": "code",
   "execution_count": 23,
   "metadata": {},
   "outputs": [],
   "source": [
    "##cells = load_sc_profiles(conn)\n",
    "##nuclei = load_sc_profiles(conn, \"Nuclei\")\n",
    "##cytoplasm = load_sc_profiles(conn, \"Cytoplasm\")\n",
    "##image_metadata = load_sc_profiles(conn, \"Image\")"
   ]
  },
  {
   "cell_type": "code",
   "execution_count": 24,
   "metadata": {},
   "outputs": [],
   "source": [
    "##for row in c1.execute('SELECT * from Cells where ImageNumber == 1'):\n",
    "##    print(row)"
   ]
  },
  {
   "cell_type": "code",
   "execution_count": 25,
   "metadata": {},
   "outputs": [],
   "source": [
    "cells_df = pd.read_csv('../data/Unnormalized_Batch2_Cells.csv')"
   ]
  },
  {
   "cell_type": "code",
   "execution_count": 26,
   "metadata": {},
   "outputs": [
    {
     "data": {
      "text/plain": [
       "9396"
      ]
     },
     "execution_count": 26,
     "metadata": {},
     "output_type": "execute_result"
    }
   ],
   "source": [
    "import gc\n",
    "gc.collect()"
   ]
  },
  {
   "cell_type": "code",
   "execution_count": 27,
   "metadata": {},
   "outputs": [],
   "source": [
    "####### Normalize each file with the entire file as the sample to fit based on. #######\n",
    "cells_df_norm = pycytominer.normalize(\n",
    "    pycytominer.feature_select(\n",
    "        cells_df\n",
    "        )\n",
    "    )"
   ]
  },
  {
   "cell_type": "code",
   "execution_count": 28,
   "metadata": {},
   "outputs": [
    {
     "data": {
      "text/plain": [
       "(256997, 112)"
      ]
     },
     "execution_count": 28,
     "metadata": {},
     "output_type": "execute_result"
    }
   ],
   "source": [
    "cells_df_norm.shape"
   ]
  },
  {
   "cell_type": "code",
   "execution_count": 29,
   "metadata": {},
   "outputs": [],
   "source": [
    "cells_df_norm.to_csv(\"../data/Normalized_Cells_Batch2.csv\", index = False)"
   ]
  },
  {
   "cell_type": "code",
   "execution_count": null,
   "metadata": {},
   "outputs": [],
   "source": []
  }
 ],
 "metadata": {
  "kernelspec": {
   "display_name": "Python 3",
   "language": "python",
   "name": "python3"
  },
  "language_info": {
   "codemirror_mode": {
    "name": "ipython",
    "version": 3
   },
   "file_extension": ".py",
   "mimetype": "text/x-python",
   "name": "python",
   "nbconvert_exporter": "python",
   "pygments_lexer": "ipython3",
   "version": "3.7.7"
  }
 },
 "nbformat": 4,
 "nbformat_minor": 4
}
