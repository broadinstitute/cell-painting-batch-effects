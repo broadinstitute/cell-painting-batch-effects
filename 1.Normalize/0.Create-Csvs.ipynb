{
 "cells": [
  {
   "cell_type": "code",
   "execution_count": 1,
   "metadata": {},
   "outputs": [
    {
     "name": "stderr",
     "output_type": "stream",
     "text": [
      "Loading required package: Rcpp\n",
      "\n",
      "\n",
      "Attaching package: ‘cytominer’\n",
      "\n",
      "\n",
      "The following object is masked from ‘package:stats’:\n",
      "\n",
      "    aggregate\n",
      "\n",
      "\n",
      "The following object is masked from ‘package:base’:\n",
      "\n",
      "    transform\n",
      "\n",
      "\n",
      "── \u001b[1mAttaching packages\u001b[22m ─────────────────────────────────────── tidyverse 1.3.0 ──\n",
      "\n",
      "\u001b[32m✔\u001b[39m \u001b[34mggplot2\u001b[39m 3.3.2     \u001b[32m✔\u001b[39m \u001b[34mpurrr  \u001b[39m 0.3.4\n",
      "\u001b[32m✔\u001b[39m \u001b[34mtibble \u001b[39m 3.0.3     \u001b[32m✔\u001b[39m \u001b[34mdplyr  \u001b[39m 1.0.0\n",
      "\u001b[32m✔\u001b[39m \u001b[34mtidyr  \u001b[39m 1.1.0     \u001b[32m✔\u001b[39m \u001b[34mstringr\u001b[39m 1.4.0\n",
      "\u001b[32m✔\u001b[39m \u001b[34mreadr  \u001b[39m 1.3.1     \u001b[32m✔\u001b[39m \u001b[34mforcats\u001b[39m 0.5.0\n",
      "\n",
      "── \u001b[1mConflicts\u001b[22m ────────────────────────────────────────── tidyverse_conflicts() ──\n",
      "\u001b[31m✖\u001b[39m \u001b[34mdplyr\u001b[39m::\u001b[32mfilter()\u001b[39m masks \u001b[34mstats\u001b[39m::filter()\n",
      "\u001b[31m✖\u001b[39m \u001b[34mdplyr\u001b[39m::\u001b[32mlag()\u001b[39m    masks \u001b[34mstats\u001b[39m::lag()\n",
      "\n"
     ]
    }
   ],
   "source": [
    "library(tidyverse)"
   ]
  },
  {
   "cell_type": "code",
   "execution_count": 2,
   "metadata": {},
   "outputs": [],
   "source": [
    "get_db <- function(filepath){\n",
    "\n",
    "    db <- DBI::dbConnect(RSQLite::SQLite(), filepath)\n",
    "    return(db)\n",
    "}"
   ]
  },
  {
   "cell_type": "code",
   "execution_count": 1,
   "metadata": {},
   "outputs": [],
   "source": [
    "## 1. Establish a connection to the database file\n",
    "## 2. Load all 4 tables\n",
    "## 3. Merge the metadata (Image) table with the other three\n",
    "## 4. Print csvs that will be easy to use.\n",
    "\n",
    "main_function <- function(filepath, platemappath){\n",
    "\n",
    "    metadata <- readr::read_csv(platemappath)\n",
    "\n",
    "    sc_db = get_db(filepath)\n",
    "\n",
    "    imagedata <- tbl(src = sc_db, \"image\")\n",
    "    cells <- tbl(src = sc_db, \"cells\")\n",
    "    cytoplasm <- tbl(src = sc_db, \"cytoplasm\")\n",
    "    nuclei <- tbl(src = sc_db, \"nuclei\")\n",
    "\n",
    "    platemetadata = imagedata %>% select(contains(\"Metadata\") | contains(\"TableNumber\")) %>% select(-c(Metadata_Series, Metadata_Site, Metadata_ChannelNumber, Metadata_FileLocation, Metadata_Frame, ExecutionTime_02Metadata, ModuleError_02Metadata))\n",
    "\n",
    "    cells_meta = left_join(platemetadata, cells)\n",
    "    nuc_meta = left_join(platemetadata, nuclei)\n",
    "    cyto_meta = left_join(platemetadata, cytoplasm)\n",
    "\n",
    "    write_csv(as.data.frame(cyto_meta), \"Unnormalized_Batch2_Cytoplasm.csv\")\n",
    "    write_csv(as.data.frame(nuc_meta), \"Unnormalized_Batch2_Nuclei.csv\")\n",
    "    write_csv(as.data.frame(cells_meta), \"Unnormalized_Batch2_Cells.csv\")\n",
    "    \n",
    "}\n"
   ]
  },
  {
   "cell_type": "code",
   "execution_count": 2,
   "metadata": {},
   "outputs": [],
   "source": [
    "main_function(\"/home/ubuntu/bucket/projects/2018_05_30_ResistanceMechanisms_Kapoor/workspace/backend/2019_03_20_Batch2/207106_exposure320/207106_exposure320.sqlite\", \"/home/ubuntu/bucket/projects/2018_05_30_ResistanceMechanisms_Kapoor/workspace/metadata/2019_03_20_Batch2/barcode_platemap.csv\")"
   ]
  },
  {
   "cell_type": "code",
   "execution_count": 16,
   "metadata": {},
   "outputs": [],
   "source": []
  },
  {
   "cell_type": "code",
   "execution_count": 18,
   "metadata": {},
   "outputs": [
    {
     "data": {
      "text/html": [
       "'hi'"
      ],
      "text/latex": [
       "'hi'"
      ],
      "text/markdown": [
       "'hi'"
      ],
      "text/plain": [
       "[1] \"hi\""
      ]
     },
     "metadata": {},
     "output_type": "display_data"
    }
   ],
   "source": []
  },
  {
   "cell_type": "code",
   "execution_count": null,
   "metadata": {},
   "outputs": [],
   "source": []
  }
 ],
 "metadata": {
  "kernelspec": {
   "display_name": "R",
   "language": "R",
   "name": "ir"
  },
  "language_info": {
   "codemirror_mode": "r",
   "file_extension": ".r",
   "mimetype": "text/x-r-source",
   "name": "R",
   "pygments_lexer": "r",
   "version": "3.5.1"
  }
 },
 "nbformat": 4,
 "nbformat_minor": 4
}
